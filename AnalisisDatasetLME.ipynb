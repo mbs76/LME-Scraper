{
 "cells": [
  {
   "cell_type": "code",
   "execution_count": 22,
   "metadata": {},
   "outputs": [
    {
     "data": {
      "text/html": [
       "<div>\n",
       "<style scoped>\n",
       "    .dataframe tbody tr th:only-of-type {\n",
       "        vertical-align: middle;\n",
       "    }\n",
       "\n",
       "    .dataframe tbody tr th {\n",
       "        vertical-align: top;\n",
       "    }\n",
       "\n",
       "    .dataframe thead th {\n",
       "        text-align: right;\n",
       "    }\n",
       "</style>\n",
       "<table border=\"1\" class=\"dataframe\">\n",
       "  <thead>\n",
       "    <tr style=\"text-align: right;\">\n",
       "      <th></th>\n",
       "      <th>Date</th>\n",
       "      <th>Product</th>\n",
       "      <th>Currency</th>\n",
       "      <th>Value</th>\n",
       "    </tr>\n",
       "  </thead>\n",
       "  <tbody>\n",
       "    <tr>\n",
       "      <th>0</th>\n",
       "      <td>21 October 2019</td>\n",
       "      <td>LME Aluminium</td>\n",
       "      <td>US$</td>\n",
       "      <td>1735.5</td>\n",
       "    </tr>\n",
       "    <tr>\n",
       "      <th>1</th>\n",
       "      <td>21 October 2019</td>\n",
       "      <td>LME Copper</td>\n",
       "      <td>US$</td>\n",
       "      <td>5820.0</td>\n",
       "    </tr>\n",
       "    <tr>\n",
       "      <th>2</th>\n",
       "      <td>21 October 2019</td>\n",
       "      <td>LME Zinc</td>\n",
       "      <td>US$</td>\n",
       "      <td>2500.0</td>\n",
       "    </tr>\n",
       "    <tr>\n",
       "      <th>3</th>\n",
       "      <td>21 October 2019</td>\n",
       "      <td>LME Nickel</td>\n",
       "      <td>US$</td>\n",
       "      <td>16200.0</td>\n",
       "    </tr>\n",
       "    <tr>\n",
       "      <th>4</th>\n",
       "      <td>21 October 2019</td>\n",
       "      <td>LME Lead</td>\n",
       "      <td>US$</td>\n",
       "      <td>2202.0</td>\n",
       "    </tr>\n",
       "  </tbody>\n",
       "</table>\n",
       "</div>"
      ],
      "text/plain": [
       "              Date        Product Currency    Value\n",
       "0  21 October 2019  LME Aluminium      US$   1735.5\n",
       "1  21 October 2019     LME Copper      US$   5820.0\n",
       "2  21 October 2019       LME Zinc      US$   2500.0\n",
       "3  21 October 2019     LME Nickel      US$  16200.0\n",
       "4  21 October 2019       LME Lead      US$   2202.0"
      ]
     },
     "execution_count": 22,
     "metadata": {},
     "output_type": "execute_result"
    }
   ],
   "source": [
    "import datetime\n",
    "import pandas as pd\n",
    "import seaborn as sns\n",
    "\n",
    "data_lme = pd.read_csv(\"lme.csv\", thousands=\",\", decimal=\".\")\n",
    "\n",
    "data_lme.head()\n"
   ]
  },
  {
   "cell_type": "code",
   "execution_count": 36,
   "metadata": {},
   "outputs": [
    {
     "data": {
      "text/html": [
       "<div>\n",
       "<style scoped>\n",
       "    .dataframe tbody tr th:only-of-type {\n",
       "        vertical-align: middle;\n",
       "    }\n",
       "\n",
       "    .dataframe tbody tr th {\n",
       "        vertical-align: top;\n",
       "    }\n",
       "\n",
       "    .dataframe thead th {\n",
       "        text-align: right;\n",
       "    }\n",
       "</style>\n",
       "<table border=\"1\" class=\"dataframe\">\n",
       "  <thead>\n",
       "    <tr style=\"text-align: right;\">\n",
       "      <th></th>\n",
       "      <th>Date</th>\n",
       "      <th>Product</th>\n",
       "      <th>Currency</th>\n",
       "      <th>Value</th>\n",
       "      <th>Date_formated</th>\n",
       "    </tr>\n",
       "  </thead>\n",
       "  <tbody>\n",
       "    <tr>\n",
       "      <th>0</th>\n",
       "      <td>21 October 2019</td>\n",
       "      <td>LME Aluminium</td>\n",
       "      <td>US$</td>\n",
       "      <td>1735.5</td>\n",
       "      <td>2019-10-21</td>\n",
       "    </tr>\n",
       "    <tr>\n",
       "      <th>13</th>\n",
       "      <td>22 October 2019</td>\n",
       "      <td>LME Aluminium</td>\n",
       "      <td>US$</td>\n",
       "      <td>1707.5</td>\n",
       "      <td>2019-10-22</td>\n",
       "    </tr>\n",
       "    <tr>\n",
       "      <th>26</th>\n",
       "      <td>23 October 2019</td>\n",
       "      <td>LME Aluminium</td>\n",
       "      <td>US$</td>\n",
       "      <td>1712.0</td>\n",
       "      <td>2019-10-23</td>\n",
       "    </tr>\n",
       "    <tr>\n",
       "      <th>39</th>\n",
       "      <td>24 October 2019</td>\n",
       "      <td>LME Aluminium</td>\n",
       "      <td>US$</td>\n",
       "      <td>1715.0</td>\n",
       "      <td>2019-10-24</td>\n",
       "    </tr>\n",
       "    <tr>\n",
       "      <th>52</th>\n",
       "      <td>25 October 2019</td>\n",
       "      <td>LME Aluminium</td>\n",
       "      <td>US$</td>\n",
       "      <td>1710.5</td>\n",
       "      <td>2019-10-25</td>\n",
       "    </tr>\n",
       "  </tbody>\n",
       "</table>\n",
       "</div>"
      ],
      "text/plain": [
       "               Date        Product Currency   Value Date_formated\n",
       "0   21 October 2019  LME Aluminium      US$  1735.5    2019-10-21\n",
       "13  22 October 2019  LME Aluminium      US$  1707.5    2019-10-22\n",
       "26  23 October 2019  LME Aluminium      US$  1712.0    2019-10-23\n",
       "39  24 October 2019  LME Aluminium      US$  1715.0    2019-10-24\n",
       "52  25 October 2019  LME Aluminium      US$  1710.5    2019-10-25"
      ]
     },
     "execution_count": 36,
     "metadata": {},
     "output_type": "execute_result"
    }
   ],
   "source": [
    "data_lme[\"Date_formated\"]=pd.to_datetime(data_lme.Date)"
   ]
  },
  {
   "cell_type": "code",
   "execution_count": 42,
   "metadata": {},
   "outputs": [
    {
     "data": {
      "text/plain": [
       "<matplotlib.axes._subplots.AxesSubplot at 0x1a24c23ac8>"
      ]
     },
     "execution_count": 42,
     "metadata": {},
     "output_type": "execute_result"
    },
    {
     "data": {
      "image/png": "[encoded data removed]",
      "text/plain": [
       "<Figure size 432x288 with 1 Axes>"
      ]
     },
     "metadata": {},
     "output_type": "display_data"
    }
   ],
   "source": [
    "data_aluminium=data_lme[data_lme.Product==\"LME Aluminium\"]\n",
    "sns.lineplot(x=\"Date_formated\", y=\"Value\", data=data_aluminium)"
   ]
  },
  {
   "cell_type": "code",
   "execution_count": null,
   "metadata": {},
   "outputs": [],
   "source": []
  }
 ],
 "metadata": {
  "kernelspec": {
   "display_name": "Python 3",
   "language": "python",
   "name": "python3"
  },
  "language_info": {
   "codemirror_mode": {
    "name": "ipython",
    "version": 3
   },
   "file_extension": ".py",
   "mimetype": "text/x-python",
   "name": "python",
   "nbconvert_exporter": "python",
   "pygments_lexer": "ipython3",
   "version": "3.7.3"
  }
 },
 "nbformat": 4,
 "nbformat_minor": 2
}
